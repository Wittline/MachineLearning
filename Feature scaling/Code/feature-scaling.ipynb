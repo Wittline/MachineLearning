{
 "cells": [
  {
   "cell_type": "markdown",
   "metadata": {
    "colab_type": "text",
    "id": "u6j9wsfL1A7J"
   },
   "source": [
    "# Feature scaling , variables and distance between points\n",
    "### * Created by Ramses Alexander Coraspe Valdez\n",
    "### * Created on september 4, 2019"
   ]
  },
  {
   "cell_type": "code",
   "execution_count": 0,
   "metadata": {
    "colab": {},
    "colab_type": "code",
    "id": "TNox6OZez-tg"
   },
   "outputs": [],
   "source": [
    "import pandas as pd\n",
    "import numpy as np\n",
    "import matplotlib.pyplot as plt\n",
    "import math"
   ]
  },
  {
   "cell_type": "code",
   "execution_count": 63,
   "metadata": {
    "colab": {
     "base_uri": "https://localhost:8080/",
     "height": 202
    },
    "colab_type": "code",
    "id": "Uc0du3ewxqYs",
    "outputId": "c4734a49-c633-411c-d187-7b5d38ff295d"
   },
   "outputs": [
    {
     "data": {
      "text/html": [
       "<div>\n",
       "<style scoped>\n",
       "    .dataframe tbody tr th:only-of-type {\n",
       "        vertical-align: middle;\n",
       "    }\n",
       "\n",
       "    .dataframe tbody tr th {\n",
       "        vertical-align: top;\n",
       "    }\n",
       "\n",
       "    .dataframe thead th {\n",
       "        text-align: right;\n",
       "    }\n",
       "</style>\n",
       "<table border=\"1\" class=\"dataframe\">\n",
       "  <thead>\n",
       "    <tr style=\"text-align: right;\">\n",
       "      <th></th>\n",
       "      <th>x1</th>\n",
       "      <th>x2</th>\n",
       "      <th>y</th>\n",
       "    </tr>\n",
       "  </thead>\n",
       "  <tbody>\n",
       "    <tr>\n",
       "      <th>0</th>\n",
       "      <td>0.15</td>\n",
       "      <td>3500</td>\n",
       "      <td>8</td>\n",
       "    </tr>\n",
       "    <tr>\n",
       "      <th>1</th>\n",
       "      <td>-0.10</td>\n",
       "      <td>3400</td>\n",
       "      <td>5</td>\n",
       "    </tr>\n",
       "    <tr>\n",
       "      <th>2</th>\n",
       "      <td>0.00</td>\n",
       "      <td>4000</td>\n",
       "      <td>3</td>\n",
       "    </tr>\n",
       "    <tr>\n",
       "      <th>3</th>\n",
       "      <td>-0.25</td>\n",
       "      <td>3900</td>\n",
       "      <td>1</td>\n",
       "    </tr>\n",
       "    <tr>\n",
       "      <th>4</th>\n",
       "      <td>0.05</td>\n",
       "      <td>3200</td>\n",
       "      <td>7</td>\n",
       "    </tr>\n",
       "  </tbody>\n",
       "</table>\n",
       "</div>"
      ],
      "text/plain": [
       "     x1    x2  y\n",
       "0  0.15  3500  8\n",
       "1 -0.10  3400  5\n",
       "2  0.00  4000  3\n",
       "3 -0.25  3900  1\n",
       "4  0.05  3200  7"
      ]
     },
     "execution_count": 63,
     "metadata": {
      "tags": []
     },
     "output_type": "execute_result"
    }
   ],
   "source": [
    "raw_data = {'x1': [0.15, -0.1, 0, -0.25, 0.05],\n",
    "'x2': [3500, 3400, 4000, 3900, 3200],\n",
    "'y': [8, 5, 3, 1, 7]}\n",
    "df = pd.DataFrame(raw_data)\n",
    "df\n"
   ]
  },
  {
   "cell_type": "code",
   "execution_count": 64,
   "metadata": {
    "colab": {
     "base_uri": "https://localhost:8080/",
     "height": 472
    },
    "colab_type": "code",
    "id": "xxWrRh4swuSq",
    "outputId": "00c3b1f1-509d-4246-e0a8-6ad171f87af5"
   },
   "outputs": [
    {
     "data": {
      "image/png": "[encoded data removed]",
      "text/plain": [
       "<Figure size 720x504 with 1 Axes>"
      ]
     },
     "metadata": {
      "tags": []
     },
     "output_type": "display_data"
    }
   ],
   "source": [
    "plt.figure(figsize=(10, 7))\n",
    "plt.scatter(df.x1,df.x2, label=\"Without scaling\", color='blue')\n",
    "\n",
    "plt.grid(True, alpha=0.6)\n",
    "plt.title(\"Scatter\", fontsize=20)\n",
    "plt.xlabel(\"x1\", fontsize=20) \n",
    "plt.ylabel(\"x2\", fontsize=20) \n",
    "plt.legend()\n",
    "plt.show()"
   ]
  },
  {
   "cell_type": "code",
   "execution_count": 0,
   "metadata": {
    "colab": {},
    "colab_type": "code",
    "id": "ueoCqDicNdNL"
   },
   "outputs": [],
   "source": [
    "def stddev(c):   \n",
    "    v = 0\n",
    "    mn = round(sum(c),2)/len(c)    \n",
    "    for i in range(len(c)):\n",
    "        v += (c[i]-mn)**2\n",
    "    v /= len(c)\n",
    "    return math.sqrt(v)"
   ]
  },
  {
   "cell_type": "markdown",
   "metadata": {
    "colab_type": "text",
    "id": "eXqq291DwJcP"
   },
   "source": [
    "# 1.a) Scaling by normalization\n",
    "\n",
    "![texto alternativo](https://raw.githubusercontent.com/Wittline/Machine_Learning/master/Feature%20scaling/n.PNG)"
   ]
  },
  {
   "cell_type": "code",
   "execution_count": 0,
   "metadata": {
    "colab": {},
    "colab_type": "code",
    "id": "JauhP3JC1Lhh"
   },
   "outputs": [],
   "source": [
    "def scalingByNormalization(c):\n",
    "  newc = [None] * len(c)\n",
    "  mean = round(sum(c),2)/len(c)\n",
    "  sdev = stddev(c)  \n",
    "  for i in range(len(c)):\n",
    "    newc[i] = (c[i] - mean)/ sdev\n",
    "    \n",
    "  return newc      "
   ]
  },
  {
   "cell_type": "code",
   "execution_count": 0,
   "metadata": {
    "colab": {},
    "colab_type": "code",
    "id": "nuc7lE85wkFt"
   },
   "outputs": [],
   "source": [
    "nx1= scalingByNormalization(df.x1)\n",
    "nx2= scalingByNormalization(df.x2)"
   ]
  },
  {
   "cell_type": "markdown",
   "metadata": {
    "colab_type": "text",
    "id": "M9RXof-Q_ojb"
   },
   "source": [
    "# 1.b) Scaling by range\n",
    "\n",
    "![texto alternativo](https://raw.githubusercontent.com/Wittline/Machine_Learning/master/Feature%20scaling/r.PNG)\n",
    "\n"
   ]
  },
  {
   "cell_type": "code",
   "execution_count": 0,
   "metadata": {
    "colab": {},
    "colab_type": "code",
    "id": "7c0kGWmfPBiF"
   },
   "outputs": [],
   "source": [
    "def scalingByRange(c):\n",
    "  newc = [None] * len(c)\n",
    "  mean = round(sum(c),2)/len(c)\n",
    "  r = max(c)- min(c)\n",
    "  for i in range(len(c)):\n",
    "    newc[i] = (c[i] - mean)/ r\n",
    "    \n",
    "  return newc"
   ]
  },
  {
   "cell_type": "code",
   "execution_count": 0,
   "metadata": {
    "colab": {},
    "colab_type": "code",
    "id": "i78QG-pYxD7h"
   },
   "outputs": [],
   "source": [
    "mx1= scalingByRange(df.x1)\n",
    "mx2= scalingByRange(df.x2)"
   ]
  },
  {
   "cell_type": "code",
   "execution_count": 70,
   "metadata": {
    "colab": {
     "base_uri": "https://localhost:8080/",
     "height": 472
    },
    "colab_type": "code",
    "id": "mbmB31KnxQ1l",
    "outputId": "11c8df26-46ff-4990-d08d-45c03bd5ff5c"
   },
   "outputs": [
    {
     "data": {
      "image/png": "[encoded data removed]",
      "text/plain": [
       "<Figure size 720x504 with 1 Axes>"
      ]
     },
     "metadata": {
      "tags": []
     },
     "output_type": "display_data"
    }
   ],
   "source": [
    "plt.figure(figsize=(10, 7))\n",
    "plt.scatter( nx1, nx2 ,label=\"Feature scaling by Normalization\", color='orange')\n",
    "plt.scatter(mx1, mx2 ,label=\"Feature scaling by range\", color='green')\n",
    "\n",
    "\n",
    "plt.grid(True, alpha=0.6)\n",
    "plt.title(\"Scatter\", fontsize=20)\n",
    "plt.xlabel(\"x1\", fontsize=20) \n",
    "plt.ylabel(\"x2\", fontsize=20) \n",
    "plt.legend()\n",
    "plt.show()"
   ]
  },
  {
   "cell_type": "markdown",
   "metadata": {
    "colab_type": "text",
    "id": "5H3zDpjr_ydx"
   },
   "source": [
    "# 1.c) Scaling between range\n",
    "\n",
    "![texto alternativo](https://raw.githubusercontent.com/Wittline/Machine_Learning/master/Feature%20scaling/br.PNG)\n"
   ]
  },
  {
   "cell_type": "code",
   "execution_count": 0,
   "metadata": {
    "colab": {},
    "colab_type": "code",
    "id": "yNbbSCvH42J6"
   },
   "outputs": [],
   "source": [
    "def scalingBetweenRange(c, r1, r2):\n",
    "  newc = [None] * len(c)\n",
    "  \n",
    "  for i in range(len(c)):    \n",
    "    newc[i] = ((r2-r1)* ((c[i] - min(c))/(max(c)-min(c)))) + r1    \n",
    "    \n",
    "  return newc"
   ]
  },
  {
   "cell_type": "code",
   "execution_count": 0,
   "metadata": {
    "colab": {},
    "colab_type": "code",
    "id": "H67HUgDIyeuU"
   },
   "outputs": [],
   "source": [
    "ny= scalingBetweenRange(df.y,-10, 20)"
   ]
  },
  {
   "cell_type": "code",
   "execution_count": 73,
   "metadata": {
    "colab": {
     "base_uri": "https://localhost:8080/",
     "height": 202
    },
    "colab_type": "code",
    "id": "d733n4MRyrlY",
    "outputId": "6c80250f-7e91-4f98-cf6d-06ede6377a3b"
   },
   "outputs": [
    {
     "data": {
      "text/html": [
       "<div>\n",
       "<style scoped>\n",
       "    .dataframe tbody tr th:only-of-type {\n",
       "        vertical-align: middle;\n",
       "    }\n",
       "\n",
       "    .dataframe tbody tr th {\n",
       "        vertical-align: top;\n",
       "    }\n",
       "\n",
       "    .dataframe thead th {\n",
       "        text-align: right;\n",
       "    }\n",
       "</style>\n",
       "<table border=\"1\" class=\"dataframe\">\n",
       "  <thead>\n",
       "    <tr style=\"text-align: right;\">\n",
       "      <th></th>\n",
       "      <th>x1N</th>\n",
       "      <th>x2N</th>\n",
       "      <th>x1R</th>\n",
       "      <th>x2R</th>\n",
       "      <th>ny</th>\n",
       "    </tr>\n",
       "  </thead>\n",
       "  <tbody>\n",
       "    <tr>\n",
       "      <th>0</th>\n",
       "      <td>1.319824</td>\n",
       "      <td>-0.329690</td>\n",
       "      <td>0.450</td>\n",
       "      <td>-0.125</td>\n",
       "      <td>20.000000</td>\n",
       "    </tr>\n",
       "    <tr>\n",
       "      <th>1</th>\n",
       "      <td>-0.513265</td>\n",
       "      <td>-0.659380</td>\n",
       "      <td>-0.175</td>\n",
       "      <td>-0.250</td>\n",
       "      <td>7.142857</td>\n",
       "    </tr>\n",
       "    <tr>\n",
       "      <th>2</th>\n",
       "      <td>0.219971</td>\n",
       "      <td>1.318761</td>\n",
       "      <td>0.075</td>\n",
       "      <td>0.500</td>\n",
       "      <td>-1.428571</td>\n",
       "    </tr>\n",
       "    <tr>\n",
       "      <th>3</th>\n",
       "      <td>-1.613118</td>\n",
       "      <td>0.989071</td>\n",
       "      <td>-0.550</td>\n",
       "      <td>0.375</td>\n",
       "      <td>-10.000000</td>\n",
       "    </tr>\n",
       "    <tr>\n",
       "      <th>4</th>\n",
       "      <td>0.586588</td>\n",
       "      <td>-1.318761</td>\n",
       "      <td>0.200</td>\n",
       "      <td>-0.500</td>\n",
       "      <td>15.714286</td>\n",
       "    </tr>\n",
       "  </tbody>\n",
       "</table>\n",
       "</div>"
      ],
      "text/plain": [
       "        x1N       x2N    x1R    x2R         ny\n",
       "0  1.319824 -0.329690  0.450 -0.125  20.000000\n",
       "1 -0.513265 -0.659380 -0.175 -0.250   7.142857\n",
       "2  0.219971  1.318761  0.075  0.500  -1.428571\n",
       "3 -1.613118  0.989071 -0.550  0.375 -10.000000\n",
       "4  0.586588 -1.318761  0.200 -0.500  15.714286"
      ]
     },
     "execution_count": 73,
     "metadata": {
      "tags": []
     },
     "output_type": "execute_result"
    }
   ],
   "source": [
    "df2 = pd.DataFrame(list(zip(nx1, nx2, mx1, mx2, ny)), \n",
    "               columns =['x1N', 'x2N', 'x1R', 'x2R', 'ny']) \n",
    "df2"
   ]
  },
  {
   "cell_type": "markdown",
   "metadata": {
    "colab_type": "text",
    "id": "zcaGS6aM_-EH"
   },
   "source": [
    "# 2.a) Euclidean distance\n",
    "\n",
    "![texto alternativo](https://raw.githubusercontent.com/Wittline/Machine_Learning/master/Feature%20scaling/euc.PNG)\n",
    "\n"
   ]
  },
  {
   "cell_type": "code",
   "execution_count": 0,
   "metadata": {
    "colab": {},
    "colab_type": "code",
    "id": "PocnY0g4Bhr2"
   },
   "outputs": [],
   "source": [
    "def euclidian(c1, c2):\n",
    "\td=0\n",
    "\tfor i in range(len(c1)):\n",
    "\t\td += math.pow(c2[i] - c1[i], 2)\n",
    "\treturn math.sqrt(d)"
   ]
  },
  {
   "cell_type": "code",
   "execution_count": 75,
   "metadata": {
    "colab": {
     "base_uri": "https://localhost:8080/",
     "height": 34
    },
    "colab_type": "code",
    "id": "IlDwxrJxxqUD",
    "outputId": "c92e31ee-793f-4153-d3a6-68ddb40f34a6"
   },
   "outputs": [
    {
     "name": "stdout",
     "output_type": "stream",
     "text": [
      "3.1622776601683795\n"
     ]
    }
   ],
   "source": [
    "v1 = [2, 1]\n",
    "v2 = [3, 4]\n",
    "print(euclidian(v1, v2))"
   ]
  },
  {
   "cell_type": "markdown",
   "metadata": {
    "colab_type": "text",
    "id": "EnQbErGXAKCd"
   },
   "source": [
    "# 2.b) Manhattan distance\n",
    "\n",
    "![texto alternativo](https://raw.githubusercontent.com/Wittline/Machine_Learning/master/Feature%20scaling/man.PNG)\n"
   ]
  },
  {
   "cell_type": "code",
   "execution_count": 0,
   "metadata": {
    "colab": {},
    "colab_type": "code",
    "id": "pXb1zhUJB8yN"
   },
   "outputs": [],
   "source": [
    "def manhattan(c1, c2):\n",
    "\td=0\n",
    "\tfor i in range(len(c1)):\n",
    "\t\td += abs(c1[i] - c2[i])\n",
    "\treturn d"
   ]
  },
  {
   "cell_type": "code",
   "execution_count": 77,
   "metadata": {
    "colab": {
     "base_uri": "https://localhost:8080/",
     "height": 34
    },
    "colab_type": "code",
    "id": "BXUStNZIyC9x",
    "outputId": "dd190d62-3386-429b-af8e-0d4cc0c02189"
   },
   "outputs": [
    {
     "name": "stdout",
     "output_type": "stream",
     "text": [
      "2\n"
     ]
    }
   ],
   "source": [
    "v1 = [2, 3]\n",
    "v2 = [1, 4]\n",
    "print(manhattan(v1,v2))"
   ]
  },
  {
   "cell_type": "markdown",
   "metadata": {
    "colab_type": "text",
    "id": "UOZ3Cg8aAWIE"
   },
   "source": [
    "# 2.c) Chebyshev distance\n",
    "\n",
    "![texto alternativo](https://raw.githubusercontent.com/Wittline/Machine_Learning/master/Feature%20scaling/che.PNG)\n"
   ]
  },
  {
   "cell_type": "code",
   "execution_count": 0,
   "metadata": {
    "colab": {},
    "colab_type": "code",
    "id": "ZXynjBZxGRUs"
   },
   "outputs": [],
   "source": [
    "def Chebyshev(c1, c2):  \n",
    "  subtractions = [None] * len(c1)\n",
    "  for i in range(len(c1)):\n",
    "    subtractions[i] = abs(c2[i] - c1[i])\n",
    "  \n",
    "  return max(subtractions)"
   ]
  },
  {
   "cell_type": "code",
   "execution_count": 79,
   "metadata": {
    "colab": {
     "base_uri": "https://localhost:8080/",
     "height": 34
    },
    "colab_type": "code",
    "id": "sTkpILYzyGvJ",
    "outputId": "67180746-570d-4ed7-a641-4d022d1a9679"
   },
   "outputs": [
    {
     "name": "stdout",
     "output_type": "stream",
     "text": [
      "3\n"
     ]
    }
   ],
   "source": [
    "v1 = [2, 1]\n",
    "v2 = [3, 4]\n",
    "print(Chebyshev(v1, v2))"
   ]
  },
  {
   "cell_type": "markdown",
   "metadata": {
    "colab_type": "text",
    "id": "ePsDbb5TAg3N"
   },
   "source": [
    "# 2.d) Minkowski distance\n",
    "\n",
    "![texto alternativo](https://raw.githubusercontent.com/Wittline/Machine_Learning/master/Feature%20scaling/mi.PNG)"
   ]
  },
  {
   "cell_type": "code",
   "execution_count": 0,
   "metadata": {
    "colab": {},
    "colab_type": "code",
    "id": "UDXgJUAaPOiR"
   },
   "outputs": [],
   "source": [
    "def Minkowski(c1,c2, p):\n",
    "  pp = 1/p\n",
    "  d=0\n",
    "  for i in range(len(c1)):\n",
    "    d +=  math.pow(abs(c1[i] - c2[i]),p)\n",
    "         \n",
    "  return math.pow(d, pp)     "
   ]
  },
  {
   "cell_type": "code",
   "execution_count": 81,
   "metadata": {
    "colab": {
     "base_uri": "https://localhost:8080/",
     "height": 34
    },
    "colab_type": "code",
    "id": "hgGWzU4oyVsb",
    "outputId": "abe4fb0f-46f9-4ec6-cfc8-f110ac2a111d"
   },
   "outputs": [
    {
     "name": "stdout",
     "output_type": "stream",
     "text": [
      "5.168695137549193\n"
     ]
    }
   ],
   "source": [
    "v1 = [2, 1]\n",
    "v2 = [3, 4]\n",
    "print(Minkowski(v1,v2,0.7))\n"
   ]
  },
  {
   "cell_type": "markdown",
   "metadata": {
    "colab_type": "text",
    "id": "NdOl423RCxUA"
   },
   "source": [
    "# 3. Suppose you want to apply the multiple linear regression method to a database whose variables or factors are shown in the image below. Let's also assume that at the moment only the following variables will be used to build the model:\n",
    "\n",
    "* ### Independent variables: *season*, *hour*, *workingday*, *windspeed*\n",
    "* ### Dependent variable: *registered*\n",
    "\n",
    "\n",
    "![texto alternativo](https://raw.githubusercontent.com/Wittline/Machine_Learning/master/Feature%20scaling/detail.PNG)\n",
    "\n",
    "\n",
    "\n",
    "\n",
    "\n"
   ]
  },
  {
   "cell_type": "markdown",
   "metadata": {
    "colab_type": "text",
    "id": "Hg-ri9QSE89f"
   },
   "source": [
    "### 3.a) Indicate what type of variable each one is: categorical or numerical. If it is numerical, so indicates whether it is discrete or continuous.\n",
    "\n",
    "\n",
    "1.   Categorical: Season, workingday \n",
    "2.   Numerical: registered(discrete), hour(discrete), windspeed(continuous) \n"
   ]
  },
  {
   "cell_type": "markdown",
   "metadata": {
    "colab_type": "text",
    "id": "p6DH4poIIqKq"
   },
   "source": [
    "### 3.b) In the case of categorical variables, indicate the *dummies* variables that you believe should be introduced to the model, indicating the *base case* of each of these dummy variables, or if you decided not to use *base case* and instead add a additional dummy variable. The *base case* is the variable that is considered in the model when all other dummy variables in that case are zero.\n",
    "\n",
    "\n",
    "![texto alternativo](https://raw.githubusercontent.com/Wittline/Machine_Learning/master/Feature%20scaling/basecase.png)\n",
    "\n",
    "\n"
   ]
  },
  {
   "cell_type": "markdown",
   "metadata": {
    "colab_type": "text",
    "id": "QRted6gYt1oc"
   },
   "source": [
    "### 3.c) How many dummy variables were added? It indicates how the symbolic representation of the multiple linear regression model would look like when all independent, dummy or non-dummy variables are included.\n",
    "\n",
    "\n",
    "\n",
    "*  ### y= Bo + B1hour + B2workingday + B3windspeed + D1springer + D2fall + D3winter + E"
   ]
  }
 ],
 "metadata": {
  "colab": {
   "name": "Untitled12.ipynb",
   "provenance": [],
   "version": "0.3.2"
  },
  "kernelspec": {
   "display_name": "Python 3",
   "language": "python",
   "name": "python3"
  },
  "language_info": {
   "codemirror_mode": {
    "name": "ipython",
    "version": 3
   },
   "file_extension": ".py",
   "mimetype": "text/x-python",
   "name": "python",
   "nbconvert_exporter": "python",
   "pygments_lexer": "ipython3",
   "version": "3.7.2"
  }
 },
 "nbformat": 4,
 "nbformat_minor": 1
}
