{
 "cells": [
  {
   "cell_type": "markdown",
   "metadata": {
    "colab_type": "text",
    "id": "xlWqj4sv8Kqm"
   },
   "source": [
    "#**Linear Regression**\n",
    "### *   Created by Ramses Alexander Coraspe Valdez\n",
    "### *   Created on Agosto 31, 2019"
   ]
  },
  {
   "cell_type": "markdown",
   "metadata": {
    "colab_type": "text",
    "id": "g__6St9K9eDM"
   },
   "source": [
    "## For the Iris data set (https://archive.ics.uci.edu/ml/datasets/Iris)"
   ]
  },
  {
   "cell_type": "markdown",
   "metadata": {
    "colab_type": "text",
    "id": "n0U-OOOi-ILm"
   },
   "source": [
    "### 1.   Will the real iris data please stand up? Bezdek et. al. IEEE Transactions on Fuzzy Systems, Vol 7, Issue 3, pp. 368-369. June 1999.\n",
    "Many papers have been written that have used the iris dataset obtained from different sources, and some of these datasets contain errors in their data, which has caused a discrepancy between machine learning models created by different authors, in addition to some of them they do not provide the information from where they obtained the dataset, it is proposed to create a central repository for known datasets, although it has already been performed before, was not successfully, so far it is recommended to take the values directly from the Fisher’s paper."
   ]
  },
  {
   "cell_type": "markdown",
   "metadata": {
    "colab_type": "text",
    "id": "M8ib_kkY_ntp"
   },
   "source": [
    "### 2. In this exercise we will apply the Simple Linear Regression method in a simplified manner with the data. For this we will consider the total set of the three types of iris as a single class and we will use only two variables: the length of the petals as an independent (or input) variable and the width of the petal as the dependent (or output) variable. That is, the existence of a linear relationship between the two variables will be sought, regardless of the type of flower."
   ]
  },
  {
   "cell_type": "code",
   "execution_count": 0,
   "metadata": {
    "colab": {},
    "colab_type": "code",
    "id": "AfE8Lt3f_yKT"
   },
   "outputs": [],
   "source": [
    "import numpy as np \n",
    "import pandas as pd \n",
    "import matplotlib as mpl\n",
    "import matplotlib.pyplot as plt\n",
    "import math"
   ]
  },
  {
   "cell_type": "code",
   "execution_count": 3,
   "metadata": {
    "colab": {
     "base_uri": "https://localhost:8080/",
     "height": 202
    },
    "colab_type": "code",
    "id": "PeBEb8nFFW0w",
    "outputId": "7b933b56-a12f-4f34-ee0d-b0778c9da4b3"
   },
   "outputs": [
    {
     "data": {
      "text/html": [
       "<div>\n",
       "<style scoped>\n",
       "    .dataframe tbody tr th:only-of-type {\n",
       "        vertical-align: middle;\n",
       "    }\n",
       "\n",
       "    .dataframe tbody tr th {\n",
       "        vertical-align: top;\n",
       "    }\n",
       "\n",
       "    .dataframe thead th {\n",
       "        text-align: right;\n",
       "    }\n",
       "</style>\n",
       "<table border=\"1\" class=\"dataframe\">\n",
       "  <thead>\n",
       "    <tr style=\"text-align: right;\">\n",
       "      <th></th>\n",
       "      <th>sepallength</th>\n",
       "      <th>sepalwidth</th>\n",
       "      <th>petallength</th>\n",
       "      <th>petalwidth</th>\n",
       "      <th>class</th>\n",
       "    </tr>\n",
       "  </thead>\n",
       "  <tbody>\n",
       "    <tr>\n",
       "      <th>0</th>\n",
       "      <td>5.1</td>\n",
       "      <td>3.5</td>\n",
       "      <td>1.4</td>\n",
       "      <td>0.2</td>\n",
       "      <td>Iris-setosa</td>\n",
       "    </tr>\n",
       "    <tr>\n",
       "      <th>1</th>\n",
       "      <td>4.9</td>\n",
       "      <td>3.0</td>\n",
       "      <td>1.4</td>\n",
       "      <td>0.2</td>\n",
       "      <td>Iris-setosa</td>\n",
       "    </tr>\n",
       "    <tr>\n",
       "      <th>2</th>\n",
       "      <td>4.7</td>\n",
       "      <td>3.2</td>\n",
       "      <td>1.3</td>\n",
       "      <td>0.2</td>\n",
       "      <td>Iris-setosa</td>\n",
       "    </tr>\n",
       "    <tr>\n",
       "      <th>3</th>\n",
       "      <td>4.6</td>\n",
       "      <td>3.1</td>\n",
       "      <td>1.5</td>\n",
       "      <td>0.2</td>\n",
       "      <td>Iris-setosa</td>\n",
       "    </tr>\n",
       "    <tr>\n",
       "      <th>4</th>\n",
       "      <td>5.0</td>\n",
       "      <td>3.6</td>\n",
       "      <td>1.4</td>\n",
       "      <td>0.2</td>\n",
       "      <td>Iris-setosa</td>\n",
       "    </tr>\n",
       "  </tbody>\n",
       "</table>\n",
       "</div>"
      ],
      "text/plain": [
       "   sepallength  sepalwidth  petallength  petalwidth        class\n",
       "0          5.1         3.5          1.4         0.2  Iris-setosa\n",
       "1          4.9         3.0          1.4         0.2  Iris-setosa\n",
       "2          4.7         3.2          1.3         0.2  Iris-setosa\n",
       "3          4.6         3.1          1.5         0.2  Iris-setosa\n",
       "4          5.0         3.6          1.4         0.2  Iris-setosa"
      ]
     },
     "execution_count": 3,
     "metadata": {
      "tags": []
     },
     "output_type": "execute_result"
    }
   ],
   "source": [
    "# The iris dataset was uploaded to the directory on my github URL\n",
    "# After the reading we assign the columns to the panda dataframe\n",
    "df1 = pd.read_csv('https://raw.githubusercontent.com/Wittline/Machine_Learning/master/Linear%20Regression/iris.data', \n",
    "                  sep=',', \n",
    "                  names=[\"sepallength\", \"sepalwidth\", \"petallength\", \"petalwidth\", 'class']);\n",
    "df1.head()"
   ]
  },
  {
   "cell_type": "code",
   "execution_count": 0,
   "metadata": {
    "colab": {},
    "colab_type": "code",
    "id": "DgXZ9TlYNp2z"
   },
   "outputs": [],
   "source": [
    "#Dropping the sepalwidth and sepallength columns\n",
    "df1.drop(df1.columns[[0, 1]], axis = 1, inplace = True) \n",
    "setosa= df1[df1['class']=='Iris-setosa']\n",
    "versicolor =df1[df1['class']=='Iris-versicolor']\n",
    "virginica =df1[df1['class']=='Iris-virginica']"
   ]
  },
  {
   "cell_type": "code",
   "execution_count": 4,
   "metadata": {
    "colab": {
     "base_uri": "https://localhost:8080/",
     "height": 202
    },
    "colab_type": "code",
    "id": "KdQ5jGouOZr0",
    "outputId": "15d9b04d-23b3-4b48-c0b9-3d2c8813d474"
   },
   "outputs": [
    {
     "data": {
      "text/html": [
       "<div>\n",
       "<style scoped>\n",
       "    .dataframe tbody tr th:only-of-type {\n",
       "        vertical-align: middle;\n",
       "    }\n",
       "\n",
       "    .dataframe tbody tr th {\n",
       "        vertical-align: top;\n",
       "    }\n",
       "\n",
       "    .dataframe thead th {\n",
       "        text-align: right;\n",
       "    }\n",
       "</style>\n",
       "<table border=\"1\" class=\"dataframe\">\n",
       "  <thead>\n",
       "    <tr style=\"text-align: right;\">\n",
       "      <th></th>\n",
       "      <th>petallength</th>\n",
       "      <th>petalwidth</th>\n",
       "      <th>class</th>\n",
       "    </tr>\n",
       "  </thead>\n",
       "  <tbody>\n",
       "    <tr>\n",
       "      <th>0</th>\n",
       "      <td>1.4</td>\n",
       "      <td>0.2</td>\n",
       "      <td>Iris-setosa</td>\n",
       "    </tr>\n",
       "    <tr>\n",
       "      <th>1</th>\n",
       "      <td>1.4</td>\n",
       "      <td>0.2</td>\n",
       "      <td>Iris-setosa</td>\n",
       "    </tr>\n",
       "    <tr>\n",
       "      <th>2</th>\n",
       "      <td>1.3</td>\n",
       "      <td>0.2</td>\n",
       "      <td>Iris-setosa</td>\n",
       "    </tr>\n",
       "    <tr>\n",
       "      <th>3</th>\n",
       "      <td>1.5</td>\n",
       "      <td>0.2</td>\n",
       "      <td>Iris-setosa</td>\n",
       "    </tr>\n",
       "    <tr>\n",
       "      <th>4</th>\n",
       "      <td>1.4</td>\n",
       "      <td>0.2</td>\n",
       "      <td>Iris-setosa</td>\n",
       "    </tr>\n",
       "  </tbody>\n",
       "</table>\n",
       "</div>"
      ],
      "text/plain": [
       "   petallength  petalwidth        class\n",
       "0          1.4         0.2  Iris-setosa\n",
       "1          1.4         0.2  Iris-setosa\n",
       "2          1.3         0.2  Iris-setosa\n",
       "3          1.5         0.2  Iris-setosa\n",
       "4          1.4         0.2  Iris-setosa"
      ]
     },
     "execution_count": 4,
     "metadata": {
      "tags": []
     },
     "output_type": "execute_result"
    }
   ],
   "source": [
    "df1.head()"
   ]
  },
  {
   "cell_type": "markdown",
   "metadata": {
    "colab_type": "text",
    "id": "e6mlXTMGBVQ0"
   },
   "source": [
    "### i. Obtaining the summary of the 5 numbers of each of the two variables indicated: length and width of the petal. Also obtaining the variance and standard deviation of each one."
   ]
  },
  {
   "cell_type": "code",
   "execution_count": 5,
   "metadata": {
    "colab": {
     "base_uri": "https://localhost:8080/",
     "height": 294
    },
    "colab_type": "code",
    "id": "Pdk_C4X8PhuK",
    "outputId": "ba2d3c8f-61ae-4aed-efc1-a9b015b399cf"
   },
   "outputs": [
    {
     "data": {
      "text/html": [
       "<div>\n",
       "<style scoped>\n",
       "    .dataframe tbody tr th:only-of-type {\n",
       "        vertical-align: middle;\n",
       "    }\n",
       "\n",
       "    .dataframe tbody tr th {\n",
       "        vertical-align: top;\n",
       "    }\n",
       "\n",
       "    .dataframe thead th {\n",
       "        text-align: right;\n",
       "    }\n",
       "</style>\n",
       "<table border=\"1\" class=\"dataframe\">\n",
       "  <thead>\n",
       "    <tr style=\"text-align: right;\">\n",
       "      <th></th>\n",
       "      <th>petallength</th>\n",
       "      <th>petalwidth</th>\n",
       "    </tr>\n",
       "  </thead>\n",
       "  <tbody>\n",
       "    <tr>\n",
       "      <th>count</th>\n",
       "      <td>150.000000</td>\n",
       "      <td>150.000000</td>\n",
       "    </tr>\n",
       "    <tr>\n",
       "      <th>mean</th>\n",
       "      <td>3.758667</td>\n",
       "      <td>1.198667</td>\n",
       "    </tr>\n",
       "    <tr>\n",
       "      <th>std</th>\n",
       "      <td>1.764420</td>\n",
       "      <td>0.763161</td>\n",
       "    </tr>\n",
       "    <tr>\n",
       "      <th>min</th>\n",
       "      <td>1.000000</td>\n",
       "      <td>0.100000</td>\n",
       "    </tr>\n",
       "    <tr>\n",
       "      <th>25%</th>\n",
       "      <td>1.600000</td>\n",
       "      <td>0.300000</td>\n",
       "    </tr>\n",
       "    <tr>\n",
       "      <th>50%</th>\n",
       "      <td>4.350000</td>\n",
       "      <td>1.300000</td>\n",
       "    </tr>\n",
       "    <tr>\n",
       "      <th>75%</th>\n",
       "      <td>5.100000</td>\n",
       "      <td>1.800000</td>\n",
       "    </tr>\n",
       "    <tr>\n",
       "      <th>max</th>\n",
       "      <td>6.900000</td>\n",
       "      <td>2.500000</td>\n",
       "    </tr>\n",
       "  </tbody>\n",
       "</table>\n",
       "</div>"
      ],
      "text/plain": [
       "       petallength  petalwidth\n",
       "count   150.000000  150.000000\n",
       "mean      3.758667    1.198667\n",
       "std       1.764420    0.763161\n",
       "min       1.000000    0.100000\n",
       "25%       1.600000    0.300000\n",
       "50%       4.350000    1.300000\n",
       "75%       5.100000    1.800000\n",
       "max       6.900000    2.500000"
      ]
     },
     "execution_count": 5,
     "metadata": {
      "tags": []
     },
     "output_type": "execute_result"
    }
   ],
   "source": [
    "df1.describe() "
   ]
  },
  {
   "cell_type": "markdown",
   "metadata": {
    "colab_type": "text",
    "id": "toNtZATyB17x"
   },
   "source": [
    "### ii. For each of the two variables obtain the histograms and the box diagrams.\n",
    "* Both variables are in the same units, correctly distributed.\n",
    "* The quartiles are correctly appreciated and there is no presence of outliers\n"
   ]
  },
  {
   "cell_type": "code",
   "execution_count": 6,
   "metadata": {
    "colab": {
     "base_uri": "https://localhost:8080/",
     "height": 449
    },
    "colab_type": "code",
    "id": "GtvpqKdHTkOd",
    "outputId": "8eb07ecd-711d-4a94-cfb7-66e8033b6da0"
   },
   "outputs": [
    {
     "data": {
      "image/png": "[encoded data removed]",
      "text/plain": [
       "<Figure size 720x504 with 1 Axes>"
      ]
     },
     "metadata": {
      "tags": []
     },
     "output_type": "display_data"
    }
   ],
   "source": [
    "x = df1.petallength \n",
    "y = df1.petalwidth\n",
    "plt.figure(figsize = (10, 7)) \n",
    "\n",
    "plt.hist(x, bins=20, alpha=0.6, label='Petal Length' )\n",
    "plt.hist(y, bins=20, alpha=0.6, label='Petal Width')\n",
    "plt.grid(True, alpha=0.6)\n",
    "plt.ylabel(\"Frequency\") \n",
    "plt.title(\"Histogram\", fontsize=20)\n",
    "plt.legend(loc='upper right')\n",
    "plt.show()"
   ]
  },
  {
   "cell_type": "code",
   "execution_count": 6,
   "metadata": {
    "colab": {
     "base_uri": "https://localhost:8080/",
     "height": 458
    },
    "colab_type": "code",
    "id": "AMAZQ9rUa2TS",
    "outputId": "c36d5192-04ed-4286-9078-96471a7907f7"
   },
   "outputs": [
    {
     "data": {
      "image/png": "[encoded data removed]",
      "text/plain": [
       "<Figure size 720x504 with 1 Axes>"
      ]
     },
     "metadata": {
      "tags": []
     },
     "output_type": "display_data"
    }
   ],
   "source": [
    "plt.figure(1, figsize=(10, 7))\n",
    "bp = plt.boxplot([df1.petallength, df1.petalwidth], vert=True, patch_artist=True,\n",
    "              flierprops={'alpha':0.6, 'markersize': 6,\n",
    "                   'markeredgecolor': '#555555','marker': 'd',\n",
    "                   'markerfacecolor': \"#555555\"}, \n",
    "              capprops={'color': '#555555', 'linewidth': 2},\n",
    "              boxprops={'color': '#555555', 'linewidth': 2},\n",
    "              whiskerprops={'color': '#555555', 'linewidth': 2},\n",
    "              medianprops={'color': '#555555', 'linewidth': 2},\n",
    "              meanprops={'color': '#555555', 'linewidth': 2})\n",
    "plt.grid(True, alpha=0.6)\n",
    "plt.title(\"Box Plot\", fontsize=20)\n",
    "plt.ylabel(\"Frequency\", fontsize=20)\n",
    "plt.xticks(ticks=[1, 2], labels=['petallength', 'petalwidth'], fontsize=20)\n",
    "bp['boxes'][0].set(facecolor='blue', alpha= 0.6)\n",
    "bp['boxes'][1].set(facecolor=\"orange\",alpha= 0.6 )\n",
    "plt.show()"
   ]
  },
  {
   "cell_type": "markdown",
   "metadata": {
    "colab_type": "text",
    "id": "Mf1lUQSdCwFy"
   },
   "source": [
    "### iii. Obtaining the scatter plot of the variable length against the variable width.\n",
    "* For each kind of flower it is observed that while the length of the petal grows, the width grows in another proportion.\n"
   ]
  },
  {
   "cell_type": "code",
   "execution_count": 7,
   "metadata": {
    "colab": {
     "base_uri": "https://localhost:8080/",
     "height": 472
    },
    "colab_type": "code",
    "id": "LzWF79c-pc2I",
    "outputId": "f35d3e00-5c72-438d-a5c5-ea2b9dad3b5e"
   },
   "outputs": [
    {
     "data": {
      "image/png": "[encoded data removed]",
      "text/plain": [
       "<Figure size 720x504 with 1 Axes>"
      ]
     },
     "metadata": {
      "tags": []
     },
     "output_type": "display_data"
    }
   ],
   "source": [
    "plt.figure(figsize=(10, 7))\n",
    "plt.scatter(x = setosa.petallength, y = setosa.petalwidth, label=\"setosa\", color='orange')\n",
    "plt.scatter(x = versicolor.petallength, y = versicolor.petalwidth, label=\"versicolor\", color='b')\n",
    "plt.scatter(x = virginica.petallength, y = virginica.petalwidth, label=\"virginica\", color='g')\n",
    "\n",
    "plt.grid(True, alpha=0.6)\n",
    "plt.title(\"Scatter\", fontsize=20)\n",
    "plt.xlabel(\"petallength\", fontsize=20) \n",
    "plt.ylabel(\"petalwidth\", fontsize=20) \n",
    "plt.legend()\n",
    "plt.show()\n"
   ]
  },
  {
   "cell_type": "markdown",
   "metadata": {
    "colab_type": "text",
    "id": "inWV0-NcDHmA"
   },
   "source": [
    "### iv. Obtaining the linear regression model (equation) 𝑦 = 𝑎 + 𝑏𝑥 using the least squares method.\n",
    "![texto alternativo](https://raw.githubusercontent.com/Wittline/Machine_Learning/master/Linear%20Regression/slope.png)\n",
    "\n",
    "![texto alternativo](https://raw.githubusercontent.com/Wittline/Machine_Learning/master/Linear%20Regression/intercept.png)\n",
    "\n",
    "\n",
    "\n",
    "\n",
    "\n",
    "\n",
    "# **y = -0.36651 + 0.4164*PetalLength**"
   ]
  },
  {
   "cell_type": "code",
   "execution_count": 0,
   "metadata": {
    "colab": {},
    "colab_type": "code",
    "id": "7L9dWICWANaW"
   },
   "outputs": [],
   "source": [
    "#Least square method, this will return the Variance and covariance of X and Y (X,Y)= (PetalLength, PetalWidth)\n",
    "def Least_square(x,y):\n",
    "  mx = x.mean()\n",
    "  my = y.mean()\n",
    "  u=0\n",
    "  d=0\n",
    "  e=0\n",
    "  i=0;\n",
    "  while(i< len(x)):\n",
    "      u += ((x[i] - mx)*(y[i] - my))\n",
    "      d += ((x[i] - mx)**2)\n",
    "      e += ((y[i] - my)**2)\n",
    "      i +=1;\n",
    "  # 𝑦 = 𝑎 + 𝑏𝑥\n",
    "  #returning a and b\n",
    "  \n",
    "  b = u/d\n",
    "  a = my - b*mx\n",
    "  \n",
    "  return a, b, u, d, e"
   ]
  },
  {
   "cell_type": "code",
   "execution_count": 12,
   "metadata": {
    "colab": {
     "base_uri": "https://localhost:8080/",
     "height": 432
    },
    "colab_type": "code",
    "id": "HOKnIawb5RTr",
    "outputId": "3d95c338-cb76-4bbd-addc-c676479f5111"
   },
   "outputs": [
    {
     "data": {
      "image/png": "[encoded data removed]",
      "text/plain": [
       "<Figure size 720x504 with 1 Axes>"
      ]
     },
     "metadata": {
      "tags": []
     },
     "output_type": "display_data"
    }
   ],
   "source": [
    "x= df1.petallength\n",
    "y= df1.petalwidth\n",
    "a, b, covxy, vx, vy = Least_square(x, y)\n",
    "yp= a + b*x\n",
    "plt.figure(figsize=(10, 7))\n",
    "plt.scatter(x,y,color=\"black\", label= \"(PetalLength, PetalWidth)\")\n",
    "plt.plot([min(x), max(x)], [min(yp), max(yp)], color=\"blue\", label=\"y = -0.36651 + 0.4164x\")\n",
    "plt.legend()\n",
    "plt.show()"
   ]
  },
  {
   "cell_type": "markdown",
   "metadata": {
    "colab_type": "text",
    "id": "f_sSFkLIF6IJ"
   },
   "source": [
    "### v. Find and interpret the p-value of the coefficients 𝑎 and 𝑏 found.\n",
    "![texto alternativo](https://raw.githubusercontent.com/Wittline/Machine_Learning/master/Linear%20Regression/p-values.png)\n"
   ]
  },
  {
   "cell_type": "markdown",
   "metadata": {
    "colab_type": "text",
    "id": "ljJUYcd0GBQ_"
   },
   "source": [
    "### vi. Obtaining the Pearson correlation coefficient and interpret it.\n",
    "![texto alternativo](https://raw.githubusercontent.com/Wittline/Machine_Learning/master/Linear%20Regression/pearson.png)\n",
    "\n"
   ]
  },
  {
   "cell_type": "code",
   "execution_count": 16,
   "metadata": {
    "colab": {
     "base_uri": "https://localhost:8080/",
     "height": 34
    },
    "colab_type": "code",
    "id": "nvpg-7IL17BW",
    "outputId": "11ffacb1-e6c7-41b1-805a-843256c2fa3f"
   },
   "outputs": [
    {
     "data": {
      "text/plain": [
       "0.9627570970509667"
      ]
     },
     "execution_count": 16,
     "metadata": {
      "tags": []
     },
     "output_type": "execute_result"
    }
   ],
   "source": [
    "pearson = (covxy/math.sqrt((vx*vy)))\n",
    "pearson  "
   ]
  },
  {
   "cell_type": "code",
   "execution_count": 15,
   "metadata": {
    "colab": {
     "base_uri": "https://localhost:8080/",
     "height": 34
    },
    "colab_type": "code",
    "id": "teXv7UO1Gw5C",
    "outputId": "81a9bac6-9a9a-4ace-a3d0-0f10cc899d1d"
   },
   "outputs": [
    {
     "data": {
      "text/plain": [
       "0.9269012279220045"
      ]
     },
     "execution_count": 15,
     "metadata": {
      "tags": []
     },
     "output_type": "execute_result"
    }
   ],
   "source": [
    "# Coefficient of determination\n",
    "R2 = (pearson**2)\n",
    "R2"
   ]
  },
  {
   "cell_type": "markdown",
   "metadata": {
    "colab_type": "text",
    "id": "yqaqIcXIHMGc"
   },
   "source": [
    "### vii. Based on the results of items v and vi, what can you say about the model found? Do you consider that it is a good model and could be used to make predictions or inferences afterwards?\n",
    "* In the case of the p-values an excel hypothesis test was performed, both probabilities tell us how likely it is to reject each coefficient, it is the probability that it is equal to zero, to remove it from the equation, both probabilities are very small therefore both coefficients are significant and should not be removed from the linear equation. \"The larger the number, the more likely it is to eliminate the coefficient\"\n",
    "* If the variable pearson (r) ≈ +1, there is a direct  linear relationship (with slope increasing) between petalLength and petalWidth. That is, if the petalLength values are increased, then the PetalWidth values are also increased proportionally.\n",
    "\n",
    "\n"
   ]
  }
 ],
 "metadata": {
  "colab": {
   "name": "Untitled11.ipynb",
   "provenance": [],
   "version": "0.3.2"
  },
  "kernelspec": {
   "display_name": "Python 3",
   "language": "python",
   "name": "python3"
  },
  "language_info": {
   "codemirror_mode": {
    "name": "ipython",
    "version": 3
   },
   "file_extension": ".py",
   "mimetype": "text/x-python",
   "name": "python",
   "nbconvert_exporter": "python",
   "pygments_lexer": "ipython3",
   "version": "3.7.2"
  }
 },
 "nbformat": 4,
 "nbformat_minor": 1
}
