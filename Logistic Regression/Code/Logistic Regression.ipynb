{
 "cells": [
  {
   "cell_type": "markdown",
   "metadata": {
    "colab_type": "text",
    "id": "WMly9Y1lOrKc"
   },
   "source": [
    "# Logistic Regression\n",
    "## Created by Ramses Alexander Coraspe Valdez\n",
    "### Created on October 9, 2019"
   ]
  },
  {
   "cell_type": "code",
   "execution_count": 0,
   "metadata": {
    "colab": {},
    "colab_type": "code",
    "id": "KyZwmdA8OH9N"
   },
   "outputs": [],
   "source": [
    "import pandas as pd\n",
    "import numpy as np\n",
    "import math\n",
    "import matplotlib.pyplot as plt\n",
    "import seaborn as sns\n",
    "from sklearn.model_selection import train_test_split, KFold, cross_val_score\n",
    "from sklearn import linear_model\n",
    "import statsmodels.api as sm\n",
    "from sklearn import metrics"
   ]
  },
  {
   "cell_type": "markdown",
   "metadata": {
    "colab_type": "text",
    "id": "pgojct6JSg6G"
   },
   "source": [
    "## a. Perform a descriptive analysis of the variables/factors, including numerical and graphical analysis that you consider appropriate."
   ]
  },
  {
   "cell_type": "code",
   "execution_count": 45,
   "metadata": {
    "colab": {
     "base_uri": "https://localhost:8080/",
     "height": 448
    },
    "colab_type": "code",
    "id": "bTDJG2QZPyW4",
    "outputId": "7e886994-72d2-4cb7-ac5a-6a3eb091e090"
   },
   "outputs": [
    {
     "data": {
      "text/html": [
       "<div>\n",
       "<style scoped>\n",
       "    .dataframe tbody tr th:only-of-type {\n",
       "        vertical-align: middle;\n",
       "    }\n",
       "\n",
       "    .dataframe tbody tr th {\n",
       "        vertical-align: top;\n",
       "    }\n",
       "\n",
       "    .dataframe thead th {\n",
       "        text-align: right;\n",
       "    }\n",
       "</style>\n",
       "<table border=\"1\" class=\"dataframe\">\n",
       "  <thead>\n",
       "    <tr style=\"text-align: right;\">\n",
       "      <th></th>\n",
       "      <th>id</th>\n",
       "      <th>Clump_Thickness</th>\n",
       "      <th>Uniformity_CellSize</th>\n",
       "      <th>Uniformity_CellShape</th>\n",
       "      <th>Marginal_Adhesion</th>\n",
       "      <th>Single_Epithelial_CellSize</th>\n",
       "      <th>Bare_Nuclei</th>\n",
       "      <th>Bland_Chromatin</th>\n",
       "      <th>Normal_Nucleoli</th>\n",
       "      <th>Mitoses</th>\n",
       "      <th>Class</th>\n",
       "    </tr>\n",
       "  </thead>\n",
       "  <tbody>\n",
       "    <tr>\n",
       "      <th>0</th>\n",
       "      <td>1000025</td>\n",
       "      <td>5</td>\n",
       "      <td>1</td>\n",
       "      <td>1</td>\n",
       "      <td>1</td>\n",
       "      <td>2</td>\n",
       "      <td>1.0</td>\n",
       "      <td>3</td>\n",
       "      <td>1</td>\n",
       "      <td>1</td>\n",
       "      <td>2</td>\n",
       "    </tr>\n",
       "    <tr>\n",
       "      <th>1</th>\n",
       "      <td>1002945</td>\n",
       "      <td>5</td>\n",
       "      <td>4</td>\n",
       "      <td>4</td>\n",
       "      <td>5</td>\n",
       "      <td>7</td>\n",
       "      <td>10.0</td>\n",
       "      <td>3</td>\n",
       "      <td>2</td>\n",
       "      <td>1</td>\n",
       "      <td>2</td>\n",
       "    </tr>\n",
       "    <tr>\n",
       "      <th>2</th>\n",
       "      <td>1015425</td>\n",
       "      <td>3</td>\n",
       "      <td>1</td>\n",
       "      <td>1</td>\n",
       "      <td>1</td>\n",
       "      <td>2</td>\n",
       "      <td>2.0</td>\n",
       "      <td>3</td>\n",
       "      <td>1</td>\n",
       "      <td>1</td>\n",
       "      <td>2</td>\n",
       "    </tr>\n",
       "    <tr>\n",
       "      <th>3</th>\n",
       "      <td>1016277</td>\n",
       "      <td>6</td>\n",
       "      <td>8</td>\n",
       "      <td>8</td>\n",
       "      <td>1</td>\n",
       "      <td>3</td>\n",
       "      <td>4.0</td>\n",
       "      <td>3</td>\n",
       "      <td>7</td>\n",
       "      <td>1</td>\n",
       "      <td>2</td>\n",
       "    </tr>\n",
       "    <tr>\n",
       "      <th>4</th>\n",
       "      <td>1017023</td>\n",
       "      <td>4</td>\n",
       "      <td>1</td>\n",
       "      <td>1</td>\n",
       "      <td>3</td>\n",
       "      <td>2</td>\n",
       "      <td>1.0</td>\n",
       "      <td>3</td>\n",
       "      <td>1</td>\n",
       "      <td>1</td>\n",
       "      <td>2</td>\n",
       "    </tr>\n",
       "    <tr>\n",
       "      <th>5</th>\n",
       "      <td>1017122</td>\n",
       "      <td>8</td>\n",
       "      <td>10</td>\n",
       "      <td>10</td>\n",
       "      <td>8</td>\n",
       "      <td>7</td>\n",
       "      <td>10.0</td>\n",
       "      <td>9</td>\n",
       "      <td>7</td>\n",
       "      <td>1</td>\n",
       "      <td>4</td>\n",
       "    </tr>\n",
       "    <tr>\n",
       "      <th>6</th>\n",
       "      <td>1018099</td>\n",
       "      <td>1</td>\n",
       "      <td>1</td>\n",
       "      <td>1</td>\n",
       "      <td>1</td>\n",
       "      <td>2</td>\n",
       "      <td>10.0</td>\n",
       "      <td>3</td>\n",
       "      <td>1</td>\n",
       "      <td>1</td>\n",
       "      <td>2</td>\n",
       "    </tr>\n",
       "    <tr>\n",
       "      <th>7</th>\n",
       "      <td>1018561</td>\n",
       "      <td>2</td>\n",
       "      <td>1</td>\n",
       "      <td>2</td>\n",
       "      <td>1</td>\n",
       "      <td>2</td>\n",
       "      <td>1.0</td>\n",
       "      <td>3</td>\n",
       "      <td>1</td>\n",
       "      <td>1</td>\n",
       "      <td>2</td>\n",
       "    </tr>\n",
       "    <tr>\n",
       "      <th>8</th>\n",
       "      <td>1033078</td>\n",
       "      <td>2</td>\n",
       "      <td>1</td>\n",
       "      <td>1</td>\n",
       "      <td>1</td>\n",
       "      <td>2</td>\n",
       "      <td>1.0</td>\n",
       "      <td>1</td>\n",
       "      <td>1</td>\n",
       "      <td>5</td>\n",
       "      <td>2</td>\n",
       "    </tr>\n",
       "    <tr>\n",
       "      <th>9</th>\n",
       "      <td>1033078</td>\n",
       "      <td>4</td>\n",
       "      <td>2</td>\n",
       "      <td>1</td>\n",
       "      <td>1</td>\n",
       "      <td>2</td>\n",
       "      <td>1.0</td>\n",
       "      <td>2</td>\n",
       "      <td>1</td>\n",
       "      <td>1</td>\n",
       "      <td>2</td>\n",
       "    </tr>\n",
       "    <tr>\n",
       "      <th>10</th>\n",
       "      <td>1035283</td>\n",
       "      <td>1</td>\n",
       "      <td>1</td>\n",
       "      <td>1</td>\n",
       "      <td>1</td>\n",
       "      <td>1</td>\n",
       "      <td>1.0</td>\n",
       "      <td>3</td>\n",
       "      <td>1</td>\n",
       "      <td>1</td>\n",
       "      <td>2</td>\n",
       "    </tr>\n",
       "    <tr>\n",
       "      <th>11</th>\n",
       "      <td>1036172</td>\n",
       "      <td>2</td>\n",
       "      <td>1</td>\n",
       "      <td>1</td>\n",
       "      <td>1</td>\n",
       "      <td>2</td>\n",
       "      <td>1.0</td>\n",
       "      <td>2</td>\n",
       "      <td>1</td>\n",
       "      <td>1</td>\n",
       "      <td>2</td>\n",
       "    </tr>\n",
       "    <tr>\n",
       "      <th>12</th>\n",
       "      <td>1041801</td>\n",
       "      <td>5</td>\n",
       "      <td>3</td>\n",
       "      <td>3</td>\n",
       "      <td>3</td>\n",
       "      <td>2</td>\n",
       "      <td>3.0</td>\n",
       "      <td>4</td>\n",
       "      <td>4</td>\n",
       "      <td>1</td>\n",
       "      <td>4</td>\n",
       "    </tr>\n",
       "  </tbody>\n",
       "</table>\n",
       "</div>"
      ],
      "text/plain": [
       "         id  Clump_Thickness  ...  Mitoses  Class\n",
       "0   1000025                5  ...        1      2\n",
       "1   1002945                5  ...        1      2\n",
       "2   1015425                3  ...        1      2\n",
       "3   1016277                6  ...        1      2\n",
       "4   1017023                4  ...        1      2\n",
       "5   1017122                8  ...        1      4\n",
       "6   1018099                1  ...        1      2\n",
       "7   1018561                2  ...        1      2\n",
       "8   1033078                2  ...        5      2\n",
       "9   1033078                4  ...        1      2\n",
       "10  1035283                1  ...        1      2\n",
       "11  1036172                2  ...        1      2\n",
       "12  1041801                5  ...        1      4\n",
       "\n",
       "[13 rows x 11 columns]"
      ]
     },
     "execution_count": 45,
     "metadata": {
      "tags": []
     },
     "output_type": "execute_result"
    }
   ],
   "source": [
    "missing = [\"?\"]\n",
    "df1 = pd.read_csv('https://raw.githubusercontent.com/Wittline/Machine_Learning/master/Logistic%20Regression/breast-cancer-wisconsin.data',                  \n",
    "                  sep=',', \n",
    "                  names=[\"id\", \"Clump_Thickness\", \"Uniformity_CellSize\", \"Uniformity_CellShape\", 'Marginal_Adhesion', 'Single_Epithelial_CellSize', 'Bare_Nuclei', 'Bland_Chromatin', 'Normal_Nucleoli', 'Mitoses', 'Class'], \n",
    "                  na_values = missing);\n",
    "df1.head(13)                  "
   ]
  },
  {
   "cell_type": "code",
   "execution_count": 46,
   "metadata": {
    "colab": {
     "base_uri": "https://localhost:8080/",
     "height": 225
    },
    "colab_type": "code",
    "id": "r1eYixDX_ZA5",
    "outputId": "de6aca30-fdc1-4567-9c22-02bc204cee66"
   },
   "outputs": [
    {
     "data": {
      "text/plain": [
       "id                             0\n",
       "Clump_Thickness                0\n",
       "Uniformity_CellSize            0\n",
       "Uniformity_CellShape           0\n",
       "Marginal_Adhesion              0\n",
       "Single_Epithelial_CellSize     0\n",
       "Bare_Nuclei                   16\n",
       "Bland_Chromatin                0\n",
       "Normal_Nucleoli                0\n",
       "Mitoses                        0\n",
       "Class                          0\n",
       "dtype: int64"
      ]
     },
     "execution_count": 46,
     "metadata": {
      "tags": []
     },
     "output_type": "execute_result"
    }
   ],
   "source": [
    "df1.isnull().sum()"
   ]
  },
  {
   "cell_type": "code",
   "execution_count": 47,
   "metadata": {
    "colab": {
     "base_uri": "https://localhost:8080/",
     "height": 225
    },
    "colab_type": "code",
    "id": "SnRhyWk6ARym",
    "outputId": "61db63e4-8843-4602-a347-1c29468610c7"
   },
   "outputs": [
    {
     "data": {
      "text/plain": [
       "id                            0\n",
       "Clump_Thickness               0\n",
       "Uniformity_CellSize           0\n",
       "Uniformity_CellShape          0\n",
       "Marginal_Adhesion             0\n",
       "Single_Epithelial_CellSize    0\n",
       "Bare_Nuclei                   0\n",
       "Bland_Chromatin               0\n",
       "Normal_Nucleoli               0\n",
       "Mitoses                       0\n",
       "Class                         0\n",
       "dtype: int64"
      ]
     },
     "execution_count": 47,
     "metadata": {
      "tags": []
     },
     "output_type": "execute_result"
    }
   ],
   "source": [
    "mdn = df1['Bare_Nuclei'].median()\n",
    "df1['Bare_Nuclei'].fillna(mdn, inplace=True)\n",
    "df1.isnull().sum()"
   ]
  },
  {
   "cell_type": "code",
   "execution_count": 0,
   "metadata": {
    "colab": {},
    "colab_type": "code",
    "id": "nIsic_QJvtgH"
   },
   "outputs": [],
   "source": [
    "df1.drop(['id'], axis = 1, inplace = True)\n",
    "#df1.drop(df1.columns[[0]], axis = 1, inplace = True) \n",
    "benign = df1[df1['Class']==2]\n",
    "malignant = df1[df1['Class']==4]"
   ]
  },
  {
   "cell_type": "code",
   "execution_count": 49,
   "metadata": {
    "cellView": "code",
    "colab": {
     "base_uri": "https://localhost:8080/",
     "height": 505
    },
    "colab_type": "code",
    "id": "j6aY2nZX6jfW",
    "outputId": "eb989046-c744-4a65-acd9-6053a6fa55e9"
   },
   "outputs": [
    {
     "data": {
      "image/png": "[encoded data removed]",
      "text/plain": [
       "<Figure size 1296x576 with 1 Axes>"
      ]
     },
     "metadata": {
      "tags": []
     },
     "output_type": "display_data"
    }
   ],
   "source": [
    "plt.figure(1, figsize=(18, 8));\n",
    "bp = plt.boxplot([df1.Clump_Thickness, df1.Uniformity_CellSize, df1.Uniformity_CellShape, df1.Marginal_Adhesion, df1.Single_Epithelial_CellSize, df1.Bare_Nuclei, df1.Bland_Chromatin, df1.Normal_Nucleoli, df1.Mitoses], vert=True, patch_artist=True,\n",
    "              flierprops={'alpha':0.6, 'markersize': 6,\n",
    "                   'markeredgecolor': '#555555','marker': 'd',\n",
    "                   'markerfacecolor': \"#555555\"}, \n",
    "              capprops={'color': '#555555', 'linewidth': 2},\n",
    "              boxprops={'color': '#555555', 'linewidth': 2},\n",
    "              whiskerprops={'color': '#555555', 'linewidth': 2},\n",
    "              medianprops={'color': '#555555', 'linewidth': 2},\n",
    "              meanprops={'color': '#555555', 'linewidth': 2});\n",
    "plt.grid(True, alpha=0.6);\n",
    "plt.title(\"Box Plot\", fontsize=20);\n",
    "plt.ylabel(\"Frequency\", fontsize=20);\n",
    "plt.xticks(ticks=[1,2,3,4,5,6,7,8,9], labels=[\"Clump_Thickness\", \"Uniformity_CellSize\", \"Uniformity_CellShape\", 'Marginal_Adhesion', 'Single_Epithelial_CellSize', 'Bare_Nuclei', 'Bland_Chromatin', 'Normal_Nucleoli', 'Mitoses'], fontsize=10);\n",
    "bp['boxes'][0].set(facecolor='blue', alpha= 0.6);\n",
    "bp['boxes'][1].set(facecolor=\"blue\",alpha= 0.6 );\n",
    "bp['boxes'][2].set(facecolor='blue', alpha= 0.6);\n",
    "bp['boxes'][3].set(facecolor=\"blue\",alpha= 0.6 );\n",
    "bp['boxes'][4].set(facecolor=\"blue\",alpha= 0.6 );\n",
    "bp['boxes'][5].set(facecolor=\"blue\",alpha= 0.6 );\n",
    "bp['boxes'][6].set(facecolor=\"blue\",alpha= 0.6 );\n",
    "bp['boxes'][7].set(facecolor=\"blue\",alpha= 0.6 );\n",
    "bp['boxes'][8].set(facecolor=\"blue\",alpha= 0.6 );\n",
    "plt.show();"
   ]
  },
  {
   "cell_type": "code",
   "execution_count": 50,
   "metadata": {
    "colab": {
     "base_uri": "https://localhost:8080/",
     "height": 610
    },
    "colab_type": "code",
    "id": "r0h9gxmaiU17",
    "outputId": "58d5a4b8-14d6-4f92-cb00-6e94e85b0eaa"
   },
   "outputs": [
    {
     "data": {
      "image/png": "[encoded data removed]",
      "text/plain": [
       "<Figure size 1440x720 with 9 Axes>"
      ]
     },
     "metadata": {
      "tags": []
     },
     "output_type": "display_data"
    }
   ],
   "source": [
    "f, axes = plt.subplots(3, 3, figsize=(20, 10))\n",
    "\n",
    "sns.distplot( benign[\"Clump_Thickness\"] , color=\"skyblue\", ax=axes[0, 0], kde=False)\n",
    "sns.distplot( malignant[\"Clump_Thickness\"] , color=\"red\", ax=axes[0, 0], kde=False)\n",
    "axes[0,0].set_xlim([1, 10])\n",
    "sns.distplot( benign[\"Uniformity_CellSize\"] , color=\"skyblue\", ax=axes[0, 1], kde=False)\n",
    "sns.distplot( malignant[\"Uniformity_CellSize\"] , color=\"red\", ax=axes[0, 1], kde=False)\n",
    "axes[0,1].set_xlim([1, 10])\n",
    "sns.distplot( benign[\"Uniformity_CellShape\"] , color=\"skyblue\", ax=axes[0, 2], kde=False)\n",
    "sns.distplot( malignant[\"Uniformity_CellShape\"] , color=\"red\", ax=axes[0, 2], kde=False)\n",
    "axes[0,2].set_xlim([1, 10])\n",
    "sns.distplot( benign[\"Marginal_Adhesion\"] , color=\"skyblue\", ax=axes[1, 0], kde=False)\n",
    "sns.distplot( malignant[\"Marginal_Adhesion\"] , color=\"red\", ax=axes[1, 0], kde=False)\n",
    "axes[1,0].set_xlim([1, 10])\n",
    "sns.distplot( benign[\"Single_Epithelial_CellSize\"] , color=\"skyblue\", ax=axes[1, 1], kde=False)\n",
    "sns.distplot( malignant[\"Single_Epithelial_CellSize\"] , color=\"red\", ax=axes[1, 1], kde=False)\n",
    "axes[1,1].set_xlim([1, 10])\n",
    "sns.distplot( benign[\"Bare_Nuclei\"] , color=\"skyblue\", ax=axes[1, 2], kde=False)\n",
    "sns.distplot( malignant[\"Bare_Nuclei\"] , color=\"red\", ax=axes[1, 2], kde=False)\n",
    "axes[1,2].set_xlim([1, 10])\n",
    "sns.distplot( benign[\"Bland_Chromatin\"] , color=\"skyblue\", ax=axes[2, 0], kde=False)\n",
    "sns.distplot( malignant[\"Bland_Chromatin\"] , color=\"red\", ax=axes[2, 0], kde=False)\n",
    "axes[2,0].set_xlim([1, 10])\n",
    "sns.distplot( benign[\"Normal_Nucleoli\"] , color=\"skyblue\", ax=axes[2, 1], kde=False)\n",
    "sns.distplot( malignant[\"Normal_Nucleoli\"] , color=\"red\", ax=axes[2, 1], kde=False)\n",
    "axes[2,1].set_xlim([1, 10])\n",
    "sns.distplot( benign[\"Mitoses\"] , color=\"skyblue\", ax=axes[2,2], kde=False)\n",
    "sns.distplot( malignant[\"Mitoses\"] , color=\"red\", ax=axes[2, 2], kde=False)\n",
    "axes[2,2].set_xlim([1, 10])\n",
    "plt.plot();"
   ]
  },
  {
   "cell_type": "markdown",
   "metadata": {
    "colab_type": "text",
    "id": "tpsDtXP2TgF5"
   },
   "source": [
    "## b. What variables will be the input variables? Indicate the type of each of these variables: numerical or categorical. In the case of categorical variables, it clearly indicates the treatment of the dummy variables introduced. Would all the independent variables that are in the dataset be used? If not, indicate which or which of them would not be used and why.\n",
    "\n",
    "1.  \"Clump_Thickness\" \n",
    "2.  \"Uniformity_CellSize\"\n",
    "3.  \"Uniformity_CellShape\" \n",
    "4.  \"Marginal_Adhesion\" \n",
    "5.  \"Single_Epithelial_CellSize\"\n",
    "6.  \"Bare_Nuclei\"\n",
    "7.  \"Bland_Chromatin\"\n",
    "8.  \"Normal_Nucleoli\"\n",
    "9.  \"Mitoses\"\n",
    "10. \"Class\"\n",
    "\n",
    "The first nine variables have nominal values and ordinal values were assigned to them too, with the same distance between categories. These variables could be normalized to another range, but in this case they all have the same behavior, apparently they are already scaled. these variables will be the input variables.\n",
    "\n",
    "The variable \"Class\" is categorical (binary), and this will be used to identify the class of the record.\n",
    "\n",
    "So far the only variable in the dataset that was removed is the variable \"id\" which is only a unique identifier of the record, perhaps other variables can be discarded due to the high correlation but  will be done it later.\n",
    "\n",
    "\n"
   ]
  },
  {
   "cell_type": "markdown",
   "metadata": {
    "colab_type": "text",
    "id": "A6zbQFRXUVC1"
   },
   "source": [
    "## c. Is it necessary to normalize or scalings some of the variables? Justify your decision.\n",
    "\n",
    "Although all input variables have nominal ordinal values, they will not be normalized, since they are all in the same range of 1 - 10"
   ]
  },
  {
   "cell_type": "markdown",
   "metadata": {
    "colab_type": "text",
    "id": "04KCEAAxVJdt"
   },
   "source": [
    "## d. What is the output variable and how many levels will it have? How much data does the output variable have in each class?\n",
    "\n",
    "1. \"Class\" variable will be the output\n",
    "2. Two levels\n",
    "3. Class \"Bening\" represent 65.52%  and the Class \"Malignant\" represent 34.48%"
   ]
  },
  {
   "cell_type": "code",
   "execution_count": 51,
   "metadata": {
    "colab": {
     "base_uri": "https://localhost:8080/",
     "height": 500
    },
    "colab_type": "code",
    "id": "ujaJ0ftVb4rE",
    "outputId": "2ba68df2-151c-485d-c9a9-5571b0af2e37"
   },
   "outputs": [
    {
     "data": {
      "image/png": "[encoded data removed]",
      "text/plain": [
       "<Figure size 720x576 with 1 Axes>"
      ]
     },
     "metadata": {
      "tags": []
     },
     "output_type": "display_data"
    }
   ],
   "source": [
    "plt.figure(figsize=(10, 8))\n",
    "ax= sns.countplot(df1['Class'], palette=['skyblue', 'red'])\n",
    "\n",
    "total = len(df1['Class'])\n",
    "for p in ax.patches:      \n",
    "      name = 'Benign'\n",
    "      if((abs(p.get_x())*10 )- 2 == 4):\n",
    "         name = 'Malignant' \n",
    "      height = p.get_height()\n",
    "      ax.text(p.get_x()+p.get_width()/2.,\n",
    "            height + 3,\n",
    "            '{:1.2f} %  {}'.format(round((height/total)*100,2), name ) ,\n",
    "            ha=\"center\")       \n",
    "plt.show()"
   ]
  },
  {
   "cell_type": "markdown",
   "metadata": {
    "colab_type": "text",
    "id": "oX_HtlRAEV2z"
   },
   "source": [
    "## e. Obtain Pearson's correlation coefficients for each pair of variables and include your conclusions about it.\n",
    "\n",
    "Checking the correlation matrix below we realize that the variables *Uniformity_CellSize* and *Uniformity_CellShape* are highly correlated and any of them coud be rejected for the analysis, in this case we will not reject any of them to be able to observe if this will affect the final outcomes.\n",
    "\n"
   ]
  },
  {
   "cell_type": "code",
   "execution_count": 52,
   "metadata": {
    "colab": {
     "base_uri": "https://localhost:8080/",
     "height": 620
    },
    "colab_type": "code",
    "id": "vO5dS37EcjAV",
    "outputId": "345ba656-4488-4c10-e495-01994d1c99ab"
   },
   "outputs": [
    {
     "data": {
      "image/png": "[encoded data removed]",
      "text/plain": [
       "<Figure size 720x720 with 2 Axes>"
      ]
     },
     "metadata": {
      "tags": []
     },
     "output_type": "display_data"
    }
   ],
   "source": [
    "corr = df1.corr(method='pearson').round(2)\n",
    "\n",
    "mask = np.zeros_like(corr, dtype=np.bool)\n",
    "mask[np.triu_indices_from(mask)] = True\n",
    "\n",
    "f, ax = plt.subplots(figsize=(10, 10))\n",
    "\n",
    "c_map = sns.diverging_palette(220, 10, as_cmap=True)\n",
    "\n",
    "sns.heatmap(corr, mask=mask, cmap=c_map, vmin=-1, vmax=1, center=0,\n",
    "            square=True, linewidths=.5, cbar_kws={\"shrink\": .5}, annot=True)\n",
    "\n",
    "plt.tight_layout()"
   ]
  },
  {
   "cell_type": "markdown",
   "metadata": {
    "colab_type": "text",
    "id": "dJbo8-_zFIib"
   },
   "source": [
    "## f. Perform a random partition in the Training set (80%) and Test set (20%). Note that you must select the samples by stratified sampling to respect the proportion of classes M and B."
   ]
  },
  {
   "cell_type": "code",
   "execution_count": 0,
   "metadata": {
    "colab": {},
    "colab_type": "code",
    "id": "oh__IIMHodci"
   },
   "outputs": [],
   "source": [
    "df1.Class = [1 if each == 4 else 0 for each in df1.Class] \n",
    "y = df1.Class\n",
    "X = df1.drop(['Class'], axis = 1) \n",
    "\n",
    "x_train, x_test, y_train, y_test = train_test_split(X, y, test_size=0.2, random_state=40)\n"
   ]
  },
  {
   "cell_type": "markdown",
   "metadata": {
    "colab_type": "text",
    "id": "NK-UZ7S1F51o"
   },
   "source": [
    "## g. Find the logistic regression model with the training data, including the p-values of each coefficient, and the AIC metric."
   ]
  },
  {
   "cell_type": "code",
   "execution_count": 54,
   "metadata": {
    "colab": {
     "base_uri": "https://localhost:8080/",
     "height": 502
    },
    "colab_type": "code",
    "id": "RlAfeZSlt6WW",
    "outputId": "b9c5913e-9961-4995-f731-1dd3d6d53602"
   },
   "outputs": [
    {
     "name": "stdout",
     "output_type": "stream",
     "text": [
      "Train accuracy: 0.9749552772808586 \n",
      "Optimization terminated successfully.\n",
      "         Current function value: 0.385080\n",
      "         Iterations 8\n",
      "                              Results: Logit\n",
      "==========================================================================\n",
      "Model:                 Logit               Pseudo R-squared:    0.402     \n",
      "Dependent Variable:    Class               AIC:                 556.3415  \n",
      "Date:                  2019-10-11 14:29    BIC:                 597.2883  \n",
      "No. Observations:      699                 Log-Likelihood:      -269.17   \n",
      "Df Model:              8                   LL-Null:             -450.26   \n",
      "Df Residuals:          690                 LLR p-value:         2.2651e-73\n",
      "Converged:             1.0000              Scale:               1.0000    \n",
      "No. Iterations:        8.0000                                             \n",
      "--------------------------------------------------------------------------\n",
      "                            Coef.  Std.Err.    z    P>|z|   [0.025  0.975]\n",
      "--------------------------------------------------------------------------\n",
      "Clump_Thickness            -0.3365   0.0569 -5.9147 0.0000 -0.4480 -0.2250\n",
      "Uniformity_CellSize         0.9223   0.1279  7.2127 0.0000  0.6717  1.1730\n",
      "Uniformity_CellShape        0.1888   0.1078  1.7519 0.0798 -0.0224  0.4000\n",
      "Marginal_Adhesion           0.1151   0.0737  1.5623 0.1182 -0.0293  0.2596\n",
      "Single_Epithelial_CellSize -0.8097   0.1011 -8.0075 0.0000 -1.0078 -0.6115\n",
      "Bare_Nuclei                 0.5530   0.0622  8.8873 0.0000  0.4311  0.6750\n",
      "Bland_Chromatin            -0.5138   0.0891 -5.7645 0.0000 -0.6885 -0.3391\n",
      "Normal_Nucleoli             0.3267   0.0702  4.6528 0.0000  0.1891  0.4644\n",
      "Mitoses                    -0.2250   0.0860 -2.6148 0.0089 -0.3937 -0.0563\n",
      "==========================================================================\n",
      "\n"
     ]
    }
   ],
   "source": [
    "lg = linear_model.LogisticRegression(random_state = 40, max_iter = 100,solver='lbfgs') \n",
    "print(\"Train accuracy: {} \".format(lg.fit(x_train, y_train).score(x_train, y_train)))\n",
    "\n",
    "logit_model=sm.Logit(y,X)\n",
    "result=logit_model.fit()\n",
    "print(result.summary2())"
   ]
  },
  {
   "cell_type": "markdown",
   "metadata": {
    "colab_type": "text",
    "id": "6iJChOASGE4S"
   },
   "source": [
    "## h. Check the model`s performance with the Test set. Shows the confusion matrix and the threshold value used."
   ]
  },
  {
   "cell_type": "code",
   "execution_count": 55,
   "metadata": {
    "colab": {
     "base_uri": "https://localhost:8080/",
     "height": 544
    },
    "colab_type": "code",
    "id": "1mqbKpQC3AFw",
    "outputId": "2a59fcf9-aa0c-43ad-e2dd-f02cc5379dc9"
   },
   "outputs": [
    {
     "name": "stdout",
     "output_type": "stream",
     "text": [
      "Test accuracy: 0.9357142857142857 \n"
     ]
    },
    {
     "data": {
      "image/png": "[encoded data removed]",
      "text/plain": [
       "<Figure size 648x648 with 2 Axes>"
      ]
     },
     "metadata": {
      "tags": []
     },
     "output_type": "display_data"
    }
   ],
   "source": [
    "print(\"Test accuracy: {} \".format(lg.fit(x_train, y_train).score(x_test, y_test))) \n",
    "\n",
    "score = lg.score(x_test, y_test)\n",
    "predictions = lg.predict(x_test)\n",
    "cm = metrics.confusion_matrix(y_test, predictions)\n",
    "\n",
    "plt.figure(figsize=(9,9))\n",
    "sns.heatmap(cm, annot=True, fmt=\".3f\", linewidths=.5, square = True, cmap = 'Blues_r');\n",
    "plt.ylabel('Actual label');\n",
    "plt.xlabel('Predicted label');\n",
    "all_sample_title = 'Accuracy Score: {0}'.format(score)\n",
    "plt.title(all_sample_title, size = 15);\n"
   ]
  },
  {
   "cell_type": "markdown",
   "metadata": {
    "colab_type": "text",
    "id": "VMlXpN9uGhFJ"
   },
   "source": [
    "## i. Make the adjustments that you consider appropriate in the process to improve the model obtained, Indicating the adjustments made and if it was possible to improve it.\n",
    "\n",
    "Removing the *Uniformity_CellShape* variable which is highly correlated and with a p-value greater than 0.05  does not improve the model.\n"
   ]
  },
  {
   "cell_type": "code",
   "execution_count": 56,
   "metadata": {
    "colab": {
     "base_uri": "https://localhost:8080/",
     "height": 1000
    },
    "colab_type": "code",
    "id": "4QJUGuA4v-gL",
    "outputId": "db3eb2cd-c7e6-4691-9f0f-38fb4970029d"
   },
   "outputs": [
    {
     "name": "stdout",
     "output_type": "stream",
     "text": [
      "Train accuracy: 0.9767441860465116 \n",
      "Optimization terminated successfully.\n",
      "         Current function value: 0.387342\n",
      "         Iterations 8\n",
      "                              Results: Logit\n",
      "==========================================================================\n",
      "Model:                 Logit               Pseudo R-squared:    0.399     \n",
      "Dependent Variable:    Class               AIC:                 557.5045  \n",
      "Date:                  2019-10-11 14:29    BIC:                 593.9017  \n",
      "No. Observations:      699                 Log-Likelihood:      -270.75   \n",
      "Df Model:              7                   LL-Null:             -450.26   \n",
      "Df Residuals:          691                 LLR p-value:         1.4417e-73\n",
      "Converged:             1.0000              Scale:               1.0000    \n",
      "No. Iterations:        8.0000                                             \n",
      "--------------------------------------------------------------------------\n",
      "                            Coef.  Std.Err.    z    P>|z|   [0.025  0.975]\n",
      "--------------------------------------------------------------------------\n",
      "Clump_Thickness            -0.3151   0.0549 -5.7435 0.0000 -0.4226 -0.2076\n",
      "Uniformity_CellSize         1.0402   0.1094  9.5053 0.0000  0.8257  1.2546\n",
      "Marginal_Adhesion           0.1116   0.0740  1.5070 0.1318 -0.0335  0.2567\n",
      "Single_Epithelial_CellSize -0.8018   0.1002 -8.0020 0.0000 -0.9982 -0.6054\n",
      "Bare_Nuclei                 0.5648   0.0621  9.0984 0.0000  0.4431  0.6864\n",
      "Bland_Chromatin            -0.5092   0.0886 -5.7475 0.0000 -0.6828 -0.3355\n",
      "Normal_Nucleoli             0.3439   0.0688  4.9994 0.0000  0.2090  0.4787\n",
      "Mitoses                    -0.2167   0.0849 -2.5521 0.0107 -0.3831 -0.0503\n",
      "==========================================================================\n",
      "\n",
      "Test accuracy: 0.9428571428571428 \n"
     ]
    },
    {
     "data": {
      "image/png": "[encoded data removed]",
      "text/plain": [
       "<Figure size 648x648 with 2 Axes>"
      ]
     },
     "metadata": {
      "tags": []
     },
     "output_type": "display_data"
    }
   ],
   "source": [
    "y = df1.Class\n",
    "X = df1.drop(['Uniformity_CellShape', 'Class'], axis = 1)\n",
    "\n",
    "\n",
    "x_train, x_test, y_train, y_test = train_test_split(X, y, test_size=0.2, random_state=40)\n",
    "\n",
    "lg = linear_model.LogisticRegression(random_state = 40, max_iter = 100, solver='lbfgs') \n",
    "print(\"Train accuracy: {} \".format(lg.fit(x_train, y_train).score(x_train, y_train)))\n",
    "\n",
    "logit_model=sm.Logit(y,X)\n",
    "result=logit_model.fit()\n",
    "print(result.summary2())\n",
    "\n",
    "print(\"Test accuracy: {} \".format(lg.fit(x_train, y_train).score(x_test, y_test))) \n",
    "\n",
    "score = lg.score(x_test, y_test)\n",
    "predictions = lg.predict(x_test)\n",
    "cm = metrics.confusion_matrix(y_test, predictions)\n",
    "\n",
    "plt.figure(figsize=(9,9))\n",
    "sns.heatmap(cm, annot=True, fmt=\".3f\", linewidths=.5, square = True, cmap = 'Blues_r');\n",
    "plt.ylabel('Actual label');\n",
    "plt.xlabel('Predicted label');\n",
    "all_sample_title = 'Accuracy Score: {0}'.format(score)\n",
    "plt.title(all_sample_title, size = 15);"
   ]
  },
  {
   "cell_type": "markdown",
   "metadata": {
    "colab_type": "text",
    "id": "P5i5mX8VHRBZ"
   },
   "source": [
    "## j. Repeat the process from item (f), but instead of performing the partition indicated in that item, use the cross-validation method with the partition value you consider appropriate.\n",
    "\n"
   ]
  },
  {
   "cell_type": "code",
   "execution_count": 57,
   "metadata": {
    "colab": {
     "base_uri": "https://localhost:8080/",
     "height": 34
    },
    "colab_type": "code",
    "id": "2pVLAqmC65wM",
    "outputId": "a12fa624-b350-4906-ae72-9564ddc552e9"
   },
   "outputs": [
    {
     "name": "stdout",
     "output_type": "stream",
     "text": [
      "0.9643260634639944\n"
     ]
    }
   ],
   "source": [
    "y = df1.Class\n",
    "X = df1.drop(['Class'], axis = 1) \n",
    "kf =   KFold(n_splits=6)\n",
    "lg = linear_model.LogisticRegression(random_state = 40, max_iter = 100, solver='lbfgs') \n",
    "\n",
    "print(cross_val_score(lg, X, y, cv=kf, scoring='accuracy').mean())\n"
   ]
  },
  {
   "cell_type": "markdown",
   "metadata": {
    "colab_type": "text",
    "id": "yYF9wpk2H832"
   },
   "source": [
    "## k. Compare the results of both processes and include your conclusions.\n",
    "\n",
    "Using 6 splits with the cross_validation method the accuracy improved by almost 0.02%\n",
    "\n"
   ]
  }
 ],
 "metadata": {
  "colab": {
   "collapsed_sections": [],
   "name": "Untitled18.ipynb",
   "provenance": []
  },
  "kernelspec": {
   "display_name": "Python 3",
   "language": "python",
   "name": "python3"
  },
  "language_info": {
   "codemirror_mode": {
    "name": "ipython",
    "version": 3
   },
   "file_extension": ".py",
   "mimetype": "text/x-python",
   "name": "python",
   "nbconvert_exporter": "python",
   "pygments_lexer": "ipython3",
   "version": "3.7.2"
  }
 },
 "nbformat": 4,
 "nbformat_minor": 1
}
